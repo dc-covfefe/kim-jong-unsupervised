{
 "cells": [
  {
   "cell_type": "code",
   "execution_count": 1,
   "metadata": {
    "collapsed": true
   },
   "outputs": [],
   "source": [
    "import pandas as pd\n",
    "import numpy as np\n",
    "import os\n",
    "import time\n",
    "os.chdir('C:/Users/aacraig/Documents/ContextEdge')\n",
    "\n",
    "# Import ContextEdgeProcessor\n",
    "from ContextEdge14 import ContextEdgePreprocessor"
   ]
  },
  {
   "cell_type": "markdown",
   "metadata": {},
   "source": [
    "#### Testing the lemmatization code in ContextEdge14"
   ]
  },
  {
   "cell_type": "code",
   "execution_count": 143,
   "metadata": {},
   "outputs": [
    {
     "name": "stdout",
     "output_type": "stream",
     "text": [
      "No data cleaning was performed, since \"raw_input_file\" was set to False.\n",
      " \n",
      "Lemmatizing the text feature: all_scenes_text.\n",
      "Generating the tfidf matrix for text feature: all_scenes_text.\n",
      "The tfidf operations for the feature: all_scenes_text took 2028.9 seconds to complete.\n",
      "The function took 2039.8 seconds to run.\n"
     ]
    }
   ],
   "source": [
    "t0 = time.time()\n",
    "\n",
    "# -------------------------------------------------------------------------------------------------\n",
    "# This function returns the dream dataset: 'df', a dictionary of sparse tfidf matrices: 'tfidf_dict', \n",
    "# and a dictionary of feature lists for each text feature: 'tfidf_features_dict'\n",
    "# \n",
    "# option notes:\n",
    "# - 'min_proportion': sets value of 'min_df' in TfidfVectorizer\n",
    "# - 'max_proportion': sets value of 'max_df' in TfidfVectorizer\n",
    "# - 'ngram_span': sets value of 'ngram_range' in TfidfVectorizer\n",
    "# - 'perform_vectoriz_ops': if set to False, only data cleaning and feature manipulations are performed.\n",
    "#                        ** The returned objects 'tfidf_dict' and 'tfidf_features_dict' are empty\n",
    "# - 'mode': possible values are:\n",
    "#           - 'lemma_tfidf_matrix'\n",
    "#           - 'stem_tfidf_matrix'\n",
    "#           - 'lemma_dtf_matrix'\n",
    "#           - 'stem_dtf_matrix'\n",
    "# - 'text_features': list of the text features to include in the tfidf operations\n",
    "# -------------------------------------------------------------------------------------------------\n",
    "\n",
    "df, matrices_dict, features_dict = ContextEdgePreprocessor(filename = 'processed_contextedge_input_file_v2.csv', \\\n",
    "                                                                  raw_input_file = False, \\\n",
    "                                                                  min_proportion = 200, \\\n",
    "                                                                  max_proportion = 0.5, \\\n",
    "                                                                  text_features = ['all_scenes_text'],\n",
    "                                                                  ngram_span = (1,2), \\\n",
    "                                                                  perform_vectoriz_ops = True,\\\n",
    "                                                                  mode = 'lemma_tfidf_matrix')\n",
    "t1 = time.time()\n",
    "print('The function took {} seconds to run.'.format(np.round(t1-t0, decimals = 1)))"
   ]
  },
  {
   "cell_type": "markdown",
   "metadata": {},
   "source": [
    "#### Looking at the returned dataframe"
   ]
  },
  {
   "cell_type": "code",
   "execution_count": 144,
   "metadata": {},
   "outputs": [
    {
     "data": {
      "text/html": [
       "<div>\n",
       "<style>\n",
       "    .dataframe thead tr:only-child th {\n",
       "        text-align: right;\n",
       "    }\n",
       "\n",
       "    .dataframe thead th {\n",
       "        text-align: left;\n",
       "    }\n",
       "\n",
       "    .dataframe tbody tr th {\n",
       "        vertical-align: top;\n",
       "    }\n",
       "</style>\n",
       "<table border=\"1\" class=\"dataframe\">\n",
       "  <thead>\n",
       "    <tr style=\"text-align: right;\">\n",
       "      <th></th>\n",
       "      <th>id</th>\n",
       "      <th>name</th>\n",
       "      <th>date</th>\n",
       "      <th>scene_one</th>\n",
       "      <th>scene_two</th>\n",
       "      <th>scene_three</th>\n",
       "      <th>scene_four</th>\n",
       "      <th>location</th>\n",
       "      <th>context</th>\n",
       "      <th>year</th>\n",
       "      <th>month</th>\n",
       "      <th>day</th>\n",
       "      <th>country</th>\n",
       "      <th>state_region</th>\n",
       "      <th>all_scenes_text</th>\n",
       "    </tr>\n",
       "  </thead>\n",
       "  <tbody>\n",
       "    <tr>\n",
       "      <th>0</th>\n",
       "      <td>Journal-000342</td>\n",
       "      <td>The Blood Moon</td>\n",
       "      <td>5/15/1980</td>\n",
       "      <td>Many years into my future I am driving a car t...</td>\n",
       "      <td>This dream happened many years ago but has nev...</td>\n",
       "      <td>NaN</td>\n",
       "      <td>NaN</td>\n",
       "      <td>Ohio, United States</td>\n",
       "      <td>NaN</td>\n",
       "      <td>1980</td>\n",
       "      <td>5</td>\n",
       "      <td>15</td>\n",
       "      <td>USA</td>\n",
       "      <td>OH</td>\n",
       "      <td>Many years into my future I am driving a car t...</td>\n",
       "    </tr>\n",
       "    <tr>\n",
       "      <th>1</th>\n",
       "      <td>Journal-000516</td>\n",
       "      <td>Vison of Jesus Prior to me getting saved</td>\n",
       "      <td>1/10/1981</td>\n",
       "      <td>I was living with my boyfriend at his mothers ...</td>\n",
       "      <td>NaN</td>\n",
       "      <td>NaN</td>\n",
       "      <td>NaN</td>\n",
       "      <td>NaN</td>\n",
       "      <td>NaN</td>\n",
       "      <td>1981</td>\n",
       "      <td>1</td>\n",
       "      <td>10</td>\n",
       "      <td>NaN</td>\n",
       "      <td>NaN</td>\n",
       "      <td>I was living with my boyfriend at his mothers ...</td>\n",
       "    </tr>\n",
       "    <tr>\n",
       "      <th>2</th>\n",
       "      <td>Journal-001517</td>\n",
       "      <td>Losing control and fear</td>\n",
       "      <td>5/19/1992</td>\n",
       "      <td>The first dream I remember was of me knocking ...</td>\n",
       "      <td>NaN</td>\n",
       "      <td>NaN</td>\n",
       "      <td>NaN</td>\n",
       "      <td>Pennsylvania, United States</td>\n",
       "      <td>NaN</td>\n",
       "      <td>1992</td>\n",
       "      <td>5</td>\n",
       "      <td>19</td>\n",
       "      <td>USA</td>\n",
       "      <td>PA</td>\n",
       "      <td>The first dream I remember was of me knocking ...</td>\n",
       "    </tr>\n",
       "    <tr>\n",
       "      <th>3</th>\n",
       "      <td>Journal-001554</td>\n",
       "      <td>Dream Refresh Edit</td>\n",
       "      <td>7/23/1993</td>\n",
       "      <td>Dasdasdadadasdsad</td>\n",
       "      <td>NaN</td>\n",
       "      <td>NaN</td>\n",
       "      <td>NaN</td>\n",
       "      <td>Cherkas, Ukr</td>\n",
       "      <td>NaN</td>\n",
       "      <td>1993</td>\n",
       "      <td>7</td>\n",
       "      <td>23</td>\n",
       "      <td>Ukraine</td>\n",
       "      <td>Cherkas</td>\n",
       "      <td>Dasdasdadadasdsad</td>\n",
       "    </tr>\n",
       "    <tr>\n",
       "      <th>4</th>\n",
       "      <td>Journal-000149</td>\n",
       "      <td>Dream</td>\n",
       "      <td>8/1/1996</td>\n",
       "      <td>Im sitting in the church school building Someo...</td>\n",
       "      <td>NaN</td>\n",
       "      <td>NaN</td>\n",
       "      <td>NaN</td>\n",
       "      <td>NaN</td>\n",
       "      <td>Joy</td>\n",
       "      <td>1996</td>\n",
       "      <td>8</td>\n",
       "      <td>1</td>\n",
       "      <td>NaN</td>\n",
       "      <td>NaN</td>\n",
       "      <td>Im sitting in the church school building Someo...</td>\n",
       "    </tr>\n",
       "  </tbody>\n",
       "</table>\n",
       "</div>"
      ],
      "text/plain": [
       "               id                                      name       date  \\\n",
       "0  Journal-000342                            The Blood Moon  5/15/1980   \n",
       "1  Journal-000516  Vison of Jesus Prior to me getting saved  1/10/1981   \n",
       "2  Journal-001517                   Losing control and fear  5/19/1992   \n",
       "3  Journal-001554                        Dream Refresh Edit  7/23/1993   \n",
       "4  Journal-000149                                     Dream   8/1/1996   \n",
       "\n",
       "                                           scene_one  \\\n",
       "0  Many years into my future I am driving a car t...   \n",
       "1  I was living with my boyfriend at his mothers ...   \n",
       "2  The first dream I remember was of me knocking ...   \n",
       "3                                  Dasdasdadadasdsad   \n",
       "4  Im sitting in the church school building Someo...   \n",
       "\n",
       "                                           scene_two scene_three scene_four  \\\n",
       "0  This dream happened many years ago but has nev...         NaN        NaN   \n",
       "1                                                NaN         NaN        NaN   \n",
       "2                                                NaN         NaN        NaN   \n",
       "3                                                NaN         NaN        NaN   \n",
       "4                                                NaN         NaN        NaN   \n",
       "\n",
       "                      location context  year  month  day  country  \\\n",
       "0          Ohio, United States     NaN  1980      5   15      USA   \n",
       "1                          NaN     NaN  1981      1   10      NaN   \n",
       "2  Pennsylvania, United States     NaN  1992      5   19      USA   \n",
       "3                 Cherkas, Ukr     NaN  1993      7   23  Ukraine   \n",
       "4                          NaN     Joy  1996      8    1      NaN   \n",
       "\n",
       "  state_region                                    all_scenes_text  \n",
       "0           OH  Many years into my future I am driving a car t...  \n",
       "1          NaN  I was living with my boyfriend at his mothers ...  \n",
       "2           PA  The first dream I remember was of me knocking ...  \n",
       "3      Cherkas                                  Dasdasdadadasdsad  \n",
       "4          NaN  Im sitting in the church school building Someo...  "
      ]
     },
     "execution_count": 144,
     "metadata": {},
     "output_type": "execute_result"
    }
   ],
   "source": [
    "df.head()"
   ]
  },
  {
   "cell_type": "markdown",
   "metadata": {},
   "source": [
    "#### Looking at the returned tfidf matrix"
   ]
  },
  {
   "cell_type": "code",
   "execution_count": 145,
   "metadata": {},
   "outputs": [
    {
     "data": {
      "text/plain": [
       "<50620x2312 sparse matrix of type '<class 'numpy.float64'>'\n",
       "\twith 2150996 stored elements in Compressed Sparse Row format>"
      ]
     },
     "execution_count": 145,
     "metadata": {},
     "output_type": "execute_result"
    }
   ],
   "source": [
    "tfidf_matrix = matrices_dict['all_scenes_text']\n",
    "tfidf_matrix"
   ]
  },
  {
   "cell_type": "markdown",
   "metadata": {},
   "source": [
    "#### Looking at the list of features"
   ]
  },
  {
   "cell_type": "code",
   "execution_count": 146,
   "metadata": {
    "collapsed": true
   },
   "outputs": [],
   "source": [
    "features_list = features_dict['all_scenes_text']"
   ]
  },
  {
   "cell_type": "code",
   "execution_count": 147,
   "metadata": {},
   "outputs": [
    {
     "data": {
      "text/plain": [
       "2312"
      ]
     },
     "execution_count": 147,
     "metadata": {},
     "output_type": "execute_result"
    }
   ],
   "source": [
    "len(features_list)"
   ]
  },
  {
   "cell_type": "code",
   "execution_count": 148,
   "metadata": {},
   "outputs": [
    {
     "data": {
      "text/plain": [
       "['able',\n",
       " 'able pron',\n",
       " 'accept',\n",
       " 'accept pron',\n",
       " 'accident',\n",
       " 'act',\n",
       " 'actual',\n",
       " 'actually']"
      ]
     },
     "execution_count": 148,
     "metadata": {},
     "output_type": "execute_result"
    }
   ],
   "source": [
    "features_list[:8]"
   ]
  },
  {
   "cell_type": "markdown",
   "metadata": {},
   "source": [
    "# Latent Sentiment Analysis (LSA)"
   ]
  },
  {
   "cell_type": "markdown",
   "metadata": {},
   "source": [
    "#### Importing TruncatedSVD from sklearn"
   ]
  },
  {
   "cell_type": "code",
   "execution_count": 149,
   "metadata": {
    "collapsed": true
   },
   "outputs": [],
   "source": [
    "from sklearn.decomposition import TruncatedSVD"
   ]
  },
  {
   "cell_type": "markdown",
   "metadata": {},
   "source": [
    "#### Setting the number of components/topics/sentiments for the model to construct"
   ]
  },
  {
   "cell_type": "code",
   "execution_count": 150,
   "metadata": {
    "collapsed": true
   },
   "outputs": [],
   "source": [
    "no_topics = 12"
   ]
  },
  {
   "cell_type": "markdown",
   "metadata": {},
   "source": [
    "#### Defining SVD"
   ]
  },
  {
   "cell_type": "code",
   "execution_count": 151,
   "metadata": {
    "collapsed": true
   },
   "outputs": [],
   "source": [
    "svd = TruncatedSVD(n_components=no_topics, algorithm='randomized',n_iter=200, random_state=42)"
   ]
  },
  {
   "cell_type": "markdown",
   "metadata": {},
   "source": [
    "#### Constructing the LSA model"
   ]
  },
  {
   "cell_type": "code",
   "execution_count": 152,
   "metadata": {
    "collapsed": true
   },
   "outputs": [],
   "source": [
    "lsa_model = svd.fit(tfidf_matrix)"
   ]
  },
  {
   "cell_type": "code",
   "execution_count": 153,
   "metadata": {},
   "outputs": [
    {
     "data": {
      "text/plain": [
       "array([[ 0.02148442,  0.00421446,  0.00599113, ...,  0.00496055,\n",
       "         0.00962378,  0.00527171],\n",
       "       [-0.00663786, -0.00088759,  0.00865534, ...,  0.0026057 ,\n",
       "         0.00560694,  0.00102147],\n",
       "       [-0.01150775, -0.00172315, -0.00370324, ...,  0.00073084,\n",
       "         0.00118953,  0.00197807],\n",
       "       ..., \n",
       "       [ 0.00728207,  0.00271719, -0.00221307, ...,  0.00235879,\n",
       "        -0.00181482, -0.00072197],\n",
       "       [-0.00937188, -0.00329815,  0.00200876, ...,  0.00491941,\n",
       "         0.00075723, -0.00254478],\n",
       "       [ 0.00746816,  0.00093247,  0.00946327, ..., -0.00262779,\n",
       "         0.00543867,  0.00183644]])"
      ]
     },
     "execution_count": 153,
     "metadata": {},
     "output_type": "execute_result"
    }
   ],
   "source": [
    "lsa_model.components_"
   ]
  },
  {
   "cell_type": "markdown",
   "metadata": {},
   "source": [
    "#### Transforming the tfidf matrix"
   ]
  },
  {
   "cell_type": "code",
   "execution_count": 154,
   "metadata": {
    "collapsed": true
   },
   "outputs": [],
   "source": [
    "lsa_topic_matrix = lsa_model.transform(tfidf_matrix)"
   ]
  },
  {
   "cell_type": "code",
   "execution_count": 155,
   "metadata": {},
   "outputs": [
    {
     "data": {
      "text/plain": [
       "(50620, 12)"
      ]
     },
     "execution_count": 155,
     "metadata": {},
     "output_type": "execute_result"
    }
   ],
   "source": [
    "lsa_topic_matrix.shape"
   ]
  },
  {
   "cell_type": "code",
   "execution_count": 156,
   "metadata": {},
   "outputs": [
    {
     "data": {
      "text/plain": [
       "array([[ 0.24611649, -0.06965956, -0.06839986, ..., -0.0432586 ,\n",
       "         0.00939942, -0.07532327],\n",
       "       [ 0.36725194,  0.01029516, -0.01748988, ..., -0.08484566,\n",
       "         0.02908731, -0.08045918],\n",
       "       [ 0.15476339, -0.15335754, -0.01050487, ..., -0.10560555,\n",
       "        -0.07840972, -0.05554108],\n",
       "       ..., \n",
       "       [ 0.1418935 , -0.00893996, -0.00567189, ..., -0.018583  ,\n",
       "        -0.02708761,  0.0127376 ],\n",
       "       [ 0.15018989, -0.00247896,  0.00307326, ...,  0.02468425,\n",
       "        -0.04646287,  0.0170457 ],\n",
       "       [ 0.11332769,  0.01725499,  0.08079498, ..., -0.0642917 ,\n",
       "        -0.00452914,  0.02825855]])"
      ]
     },
     "execution_count": 156,
     "metadata": {},
     "output_type": "execute_result"
    }
   ],
   "source": [
    "lsa_topic_matrix"
   ]
  },
  {
   "cell_type": "markdown",
   "metadata": {},
   "source": [
    "# Analyzing the model"
   ]
  },
  {
   "cell_type": "markdown",
   "metadata": {},
   "source": [
    "#### Defining helper functions"
   ]
  },
  {
   "cell_type": "code",
   "execution_count": 157,
   "metadata": {},
   "outputs": [],
   "source": [
    "from collections import Counter"
   ]
  },
  {
   "cell_type": "markdown",
   "metadata": {},
   "source": [
    "#### Making a copy of no_topics so it will work with kaggle tutorial code"
   ]
  },
  {
   "cell_type": "code",
   "execution_count": 158,
   "metadata": {
    "collapsed": true
   },
   "outputs": [],
   "source": [
    "n_topics = no_topics"
   ]
  },
  {
   "cell_type": "code",
   "execution_count": 159,
   "metadata": {
    "collapsed": true
   },
   "outputs": [],
   "source": [
    "# Define helper functions\n",
    "def get_keys(topic_matrix):\n",
    "    '''returns an integer list of predicted topic categories for a given topic matrix'''\n",
    "    keys = []\n",
    "    for i in range(topic_matrix.shape[0]):\n",
    "        keys.append(topic_matrix[i].argmax())\n",
    "    return keys\n",
    "\n",
    "def keys_to_counts(keys):\n",
    "    '''returns a tuple of topic categories and their accompanying magnitudes for a given list of keys'''\n",
    "    count_pairs = Counter(keys).items()\n",
    "    categories = [pair[0] for pair in count_pairs]\n",
    "    counts = [pair[1] for pair in count_pairs]\n",
    "    return (categories, counts)\n",
    "\n",
    "def get_top_n_words(n_words, keys, document_term_matrix, count_vectorizer):\n",
    "    '''returns a list of n_topic strings, where each string contains the n most common \n",
    "        words in a predicted category, in order'''\n",
    "    top_word_indices = []\n",
    "    for topic in range(n_topics):\n",
    "        temp_vector_sum = 0\n",
    "        for i in range(len(keys)):\n",
    "            if keys[i] == topic:\n",
    "                temp_vector_sum += document_term_matrix[i]\n",
    "        temp_vector_sum = temp_vector_sum.toarray()\n",
    "        top_n_word_indices = np.flip(np.argsort(temp_vector_sum)[0][-n_words:],0)\n",
    "        top_word_indices.append(top_n_word_indices)   \n",
    "    top_words = []\n",
    "    for topic in top_word_indices:\n",
    "        topic_words = []\n",
    "        for index in topic:\n",
    "            temp_word_vector = np.zeros((1,document_term_matrix.shape[1]))\n",
    "            temp_word_vector[:,index] = 1\n",
    "            the_word = count_vectorizer.inverse_transform(temp_word_vector)[0][0]\n",
    "            topic_words.append(the_word.encode('ascii').decode('utf-8'))\n",
    "        top_words.append(\" \".join(topic_words))         \n",
    "    return top_words"
   ]
  },
  {
   "cell_type": "markdown",
   "metadata": {},
   "source": [
    "#### Getting the topics for each dream & the number of dreams in each category"
   ]
  },
  {
   "cell_type": "code",
   "execution_count": 160,
   "metadata": {},
   "outputs": [],
   "source": [
    "lsa_keys = get_keys(lsa_topic_matrix)\n",
    "lsa_categories, lsa_counts = keys_to_counts(lsa_keys)"
   ]
  },
  {
   "cell_type": "code",
   "execution_count": 161,
   "metadata": {},
   "outputs": [
    {
     "data": {
      "text/plain": [
       "[0, 2, 5, 9, 11, 1, 3, 7, 6, 4, 10, 8]"
      ]
     },
     "execution_count": 161,
     "metadata": {},
     "output_type": "execute_result"
    }
   ],
   "source": [
    "lsa_categories"
   ]
  },
  {
   "cell_type": "code",
   "execution_count": 162,
   "metadata": {},
   "outputs": [
    {
     "data": {
      "text/plain": [
       "[40202, 190, 960, 608, 1650, 1249, 1293, 593, 1005, 1381, 663, 826]"
      ]
     },
     "execution_count": 162,
     "metadata": {},
     "output_type": "execute_result"
    }
   ],
   "source": [
    "lsa_counts"
   ]
  },
  {
   "cell_type": "markdown",
   "metadata": {},
   "source": [
    "#### Making a dictionary to hold the counts for each topic/category"
   ]
  },
  {
   "cell_type": "code",
   "execution_count": 163,
   "metadata": {},
   "outputs": [],
   "source": [
    "categories_counts = dict([['topic_'+str(x), y] for (x,y) in zip(lsa_categories, lsa_counts)])"
   ]
  },
  {
   "cell_type": "code",
   "execution_count": 164,
   "metadata": {},
   "outputs": [
    {
     "data": {
      "text/plain": [
       "{'topic_0': 40202,\n",
       " 'topic_1': 1249,\n",
       " 'topic_10': 663,\n",
       " 'topic_11': 1650,\n",
       " 'topic_2': 190,\n",
       " 'topic_3': 1293,\n",
       " 'topic_4': 1381,\n",
       " 'topic_5': 960,\n",
       " 'topic_6': 1005,\n",
       " 'topic_7': 593,\n",
       " 'topic_8': 826,\n",
       " 'topic_9': 608}"
      ]
     },
     "execution_count": 164,
     "metadata": {},
     "output_type": "execute_result"
    }
   ],
   "source": [
    "categories_counts"
   ]
  },
  {
   "cell_type": "markdown",
   "metadata": {},
   "source": [
    "#### Looking at top words for each topic/category"
   ]
  },
  {
   "cell_type": "markdown",
   "metadata": {},
   "source": [
    "#### Importing TfidfVectorizer again"
   ]
  },
  {
   "cell_type": "code",
   "execution_count": 165,
   "metadata": {},
   "outputs": [],
   "source": [
    "from sklearn.feature_extraction.text import TfidfVectorizer\n",
    "import en_core_web_lg\n",
    "nlp = en_core_web_lg.load()"
   ]
  },
  {
   "cell_type": "markdown",
   "metadata": {},
   "source": [
    "#### Relemmatizing docs"
   ]
  },
  {
   "cell_type": "code",
   "execution_count": 166,
   "metadata": {
    "collapsed": true
   },
   "outputs": [],
   "source": [
    "# Redefining custom lemmatizer\n",
    "def lemmatizer(text):\n",
    "    sent = []\n",
    "    # doc = nlp(text)\n",
    "    sent = [x.lemma_ for x in nlp(text)]\n",
    "    return \" \".join(sent)"
   ]
  },
  {
   "cell_type": "code",
   "execution_count": 167,
   "metadata": {},
   "outputs": [],
   "source": [
    "# Getting all dreams and re-lemmatizing them\n",
    "all_dreams = df['all_scenes_text'].tolist()\n",
    "\n",
    "lemma_dreams = list(map(lemmatizer, all_dreams))"
   ]
  },
  {
   "cell_type": "markdown",
   "metadata": {},
   "source": [
    "#### Redefining a temporary vectorizer"
   ]
  },
  {
   "cell_type": "code",
   "execution_count": 168,
   "metadata": {},
   "outputs": [],
   "source": [
    "temp_vectorizer = TfidfVectorizer(min_df =200, max_df = 0.35, stop_words = 'english', ngram_range = (1,2)).fit(lemma_dreams)"
   ]
  },
  {
   "cell_type": "markdown",
   "metadata": {},
   "source": [
    "#### Getting top words"
   ]
  },
  {
   "cell_type": "code",
   "execution_count": 169,
   "metadata": {
    "collapsed": true
   },
   "outputs": [],
   "source": [
    "top_n_words_lsa = get_top_n_words(10, lsa_keys, tfidf_matrix, temp_vectorizer)"
   ]
  },
  {
   "cell_type": "markdown",
   "metadata": {},
   "source": [
    "#### Getting the top words for each topic"
   ]
  },
  {
   "cell_type": "code",
   "execution_count": 170,
   "metadata": {},
   "outputs": [
    {
     "name": "stdout",
     "output_type": "stream",
     "text": [
      "Topic 0:  say like look come know house people tell pron say say pron\n",
      "Topic 1:  god pray word spirit lord god pron holy jesus church pron pray\n",
      "Topic 2:  say pron say say pron ask ask pron pron ask tell tell pron mom car\n",
      "Topic 3:  mean pron mean baby mean pron pregnant tell tell pron pron pregnant mean dream dream mean\n",
      "Topic 4:  car drive pron car car pron pron drive drive pron road seat mean park\n",
      "Topic 5:  baby baby pron pron baby pregnant birth hold girl boy baby girl pron pregnant\n",
      "Topic 6:  mean pron mean mean pron mean dream look white black like person vision\n",
      "Topic 7:  remember pron remember remember pron know pron know know pron like remember dream think number\n",
      "Topic 8:  snake husband pron husband wake pron wake sleep night husband pron wake pron bed\n",
      "Topic 9:  snake tell tell pron pron tell snake pron bite dream snake bite pron try pron snake\n",
      "Topic 10:  husband pron husband husband pron husband dream vision look church tell tell pron like\n",
      "Topic 11:  water message thank thank pron check check pron pron private help private blessing\n"
     ]
    }
   ],
   "source": [
    "for i in range(len(top_n_words_lsa)):\n",
    "    print(\"Topic {}: \".format(i), top_n_words_lsa[i])"
   ]
  },
  {
   "cell_type": "markdown",
   "metadata": {},
   "source": [
    "#### Visualizing top 3 words for each topic"
   ]
  },
  {
   "cell_type": "code",
   "execution_count": 171,
   "metadata": {
    "collapsed": true
   },
   "outputs": [],
   "source": [
    "import matplotlib.pyplot as plt"
   ]
  },
  {
   "cell_type": "code",
   "execution_count": 172,
   "metadata": {},
   "outputs": [
    {
     "data": {
      "image/png": "[encoded data removed]",
      "text/plain": [
       "<matplotlib.figure.Figure at 0x1e4a10f3b00>"
      ]
     },
     "metadata": {},
     "output_type": "display_data"
    },
    {
     "data": {
      "text/plain": [
       "<matplotlib.figure.Figure at 0x1e42bcb70f0>"
      ]
     },
     "metadata": {},
     "output_type": "display_data"
    }
   ],
   "source": [
    "top_3_words = get_top_n_words(3, lsa_keys, tfidf_matrix, temp_vectorizer)\n",
    "labels = ['Topic {}: \\n'.format(i) + top_3_words[i] for i in lsa_categories]\n",
    "\n",
    "fig, ax = plt.subplots(figsize=(16,8))\n",
    "ax.bar(lsa_categories, lsa_counts)\n",
    "ax.set_xticks(lsa_categories)\n",
    "ax.set_xticklabels(labels)\n",
    "ax.set_title('LSA Topic Category Counts')\n",
    "plt.xticks(rotation = 80)\n",
    "plt.figure(figsize = (14,8))\n",
    "plt.show()"
   ]
  },
  {
   "cell_type": "code",
   "execution_count": null,
   "metadata": {
    "collapsed": true
   },
   "outputs": [],
   "source": []
  },
  {
   "cell_type": "code",
   "execution_count": null,
   "metadata": {
    "collapsed": true
   },
   "outputs": [],
   "source": []
  },
  {
   "cell_type": "code",
   "execution_count": null,
   "metadata": {
    "collapsed": true
   },
   "outputs": [],
   "source": []
  },
  {
   "cell_type": "code",
   "execution_count": null,
   "metadata": {
    "collapsed": true
   },
   "outputs": [],
   "source": []
  },
  {
   "cell_type": "code",
   "execution_count": null,
   "metadata": {
    "collapsed": true
   },
   "outputs": [],
   "source": []
  }
 ],
 "metadata": {
  "kernelspec": {
   "display_name": "Python 3",
   "language": "python",
   "name": "python3"
  },
  "language_info": {
   "codemirror_mode": {
    "name": "ipython",
    "version": 3
   },
   "file_extension": ".py",
   "mimetype": "text/x-python",
   "name": "python",
   "nbconvert_exporter": "python",
   "pygments_lexer": "ipython3",
   "version": "3.6.3"
  }
 },
 "nbformat": 4,
 "nbformat_minor": 2
}
