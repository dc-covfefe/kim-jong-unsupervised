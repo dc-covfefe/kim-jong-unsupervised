{
 "cells": [
  {
   "cell_type": "code",
   "execution_count": 1,
   "metadata": {
    "collapsed": true
   },
   "outputs": [],
   "source": [
    "import pandas as pd\n",
    "import numpy as np\n",
    "import os\n",
    "import time\n",
    "os.chdir('C:/Users/aacraig/Documents/ContextEdge')"
   ]
  },
  {
   "cell_type": "code",
   "execution_count": 2,
   "metadata": {
    "collapsed": true
   },
   "outputs": [],
   "source": [
    "from ContextEdge11 import ContextEdgePreprocessor"
   ]
  },
  {
   "cell_type": "code",
   "execution_count": 103,
   "metadata": {},
   "outputs": [
    {
     "name": "stdout",
     "output_type": "stream",
     "text": [
      "No data cleaning was performed, since \"raw_input_file\" was set to False.\n",
      "\n",
      "\n",
      "The tfidf fit for the stemmed text feature: all_scenes_text is being generated.\n",
      "The tfidf fit for the stemmed text feature: all_scenes_text is complete.\n",
      "There are: 1650 token features in the tfidf model.\n",
      "The tfidf operations for the feature: all_scenes_text took 26.0 seconds to complete.\n",
      "The function took 35.6 seconds to run.\n"
     ]
    }
   ],
   "source": [
    "t0 = time.time()\n",
    "\n",
    "# -------------------------------------------------------------------------------------------------\n",
    "# This function returns the dream dataset: 'df', a dictionary of sparse tfidf matrices: 'bow_dict', \n",
    "# and a dictionary of feature lists for each text feature: 'features_dict'\n",
    "# \n",
    "# option notes:\n",
    "# - 'min_proportion': sets value of 'min_df' in TfidfVectorizer\n",
    "# - 'max_proportion': sets value of 'max_df' in TfidfVectorizer\n",
    "# - 'ngram_span': sets value of 'ngram_range' in TfidfVectorizer\n",
    "# - 'perform_tfidf_ops': if set to False, only data cleaning and feature manipulations are performed.\n",
    "#                        ** The returned objects 'tfidf_dict' and 'tfidf_features_dict' are empty\n",
    "# - 'mode': either 'lemmatize' or 'stem'\n",
    "# - 'text_features': list of the text features to include\n",
    "# -------------------------------------------------------------------------------------------------\n",
    "\n",
    "df, tfidf_dict, tfidf_features_dict = ContextEdgePreprocessor(filename = 'processed_contextedge_input_file.csv', \\\n",
    "                                                                  raw_input_file = False, \\\n",
    "                                                                  min_proportion = 200, \\\n",
    "                                                                  max_proportion = 0.2, \\\n",
    "                                                                  text_features = ['all_scenes_text'],\n",
    "                                                                  ngram_span = (1,2), \\\n",
    "                                                                  perform_tfidf_ops = True,\\\n",
    "                                                                  mode = 'stem')\n",
    "t1 = time.time()\n",
    "print('The function took {} seconds to run.'.format(np.round(t1-t0, decimals = 1)))"
   ]
  },
  {
   "cell_type": "markdown",
   "metadata": {},
   "source": [
    "#### Looking at the returned dataframe"
   ]
  },
  {
   "cell_type": "code",
   "execution_count": 104,
   "metadata": {},
   "outputs": [
    {
     "data": {
      "text/html": [
       "<div>\n",
       "<style>\n",
       "    .dataframe thead tr:only-child th {\n",
       "        text-align: right;\n",
       "    }\n",
       "\n",
       "    .dataframe thead th {\n",
       "        text-align: left;\n",
       "    }\n",
       "\n",
       "    .dataframe tbody tr th {\n",
       "        vertical-align: top;\n",
       "    }\n",
       "</style>\n",
       "<table border=\"1\" class=\"dataframe\">\n",
       "  <thead>\n",
       "    <tr style=\"text-align: right;\">\n",
       "      <th></th>\n",
       "      <th>id</th>\n",
       "      <th>name</th>\n",
       "      <th>date</th>\n",
       "      <th>scene_one</th>\n",
       "      <th>scene_two</th>\n",
       "      <th>scene_three</th>\n",
       "      <th>scene_four</th>\n",
       "      <th>location</th>\n",
       "      <th>context</th>\n",
       "      <th>year</th>\n",
       "      <th>month</th>\n",
       "      <th>day</th>\n",
       "      <th>country</th>\n",
       "      <th>state_region</th>\n",
       "      <th>all_scenes_text</th>\n",
       "    </tr>\n",
       "  </thead>\n",
       "  <tbody>\n",
       "    <tr>\n",
       "      <th>0</th>\n",
       "      <td>Journal-000342</td>\n",
       "      <td>The Blood Moon</td>\n",
       "      <td>1980-05-15</td>\n",
       "      <td>Many years into my future I am driving a car t...</td>\n",
       "      <td>This dream happened many years ago but has nev...</td>\n",
       "      <td>NaN</td>\n",
       "      <td>NaN</td>\n",
       "      <td>Ohio, United States</td>\n",
       "      <td>NaN</td>\n",
       "      <td>1980</td>\n",
       "      <td>5</td>\n",
       "      <td>15</td>\n",
       "      <td>USA</td>\n",
       "      <td>Ohio</td>\n",
       "      <td>Many years into my future I am driving a car t...</td>\n",
       "    </tr>\n",
       "    <tr>\n",
       "      <th>1</th>\n",
       "      <td>Journal-000516</td>\n",
       "      <td>Vison of Jesus Prior to me getting saved</td>\n",
       "      <td>1981-01-10</td>\n",
       "      <td>I was living with my boyfriend at his mothers ...</td>\n",
       "      <td>NaN</td>\n",
       "      <td>NaN</td>\n",
       "      <td>NaN</td>\n",
       "      <td>NaN</td>\n",
       "      <td>NaN</td>\n",
       "      <td>1981</td>\n",
       "      <td>1</td>\n",
       "      <td>10</td>\n",
       "      <td>NaN</td>\n",
       "      <td>NaN</td>\n",
       "      <td>I was living with my boyfriend at his mothers ...</td>\n",
       "    </tr>\n",
       "  </tbody>\n",
       "</table>\n",
       "</div>"
      ],
      "text/plain": [
       "               id                                      name        date  \\\n",
       "0  Journal-000342                            The Blood Moon  1980-05-15   \n",
       "1  Journal-000516  Vison of Jesus Prior to me getting saved  1981-01-10   \n",
       "\n",
       "                                           scene_one  \\\n",
       "0  Many years into my future I am driving a car t...   \n",
       "1  I was living with my boyfriend at his mothers ...   \n",
       "\n",
       "                                           scene_two scene_three scene_four  \\\n",
       "0  This dream happened many years ago but has nev...         NaN        NaN   \n",
       "1                                                NaN         NaN        NaN   \n",
       "\n",
       "              location context  year  month  day country state_region  \\\n",
       "0  Ohio, United States     NaN  1980      5   15     USA         Ohio   \n",
       "1                  NaN     NaN  1981      1   10     NaN          NaN   \n",
       "\n",
       "                                     all_scenes_text  \n",
       "0  Many years into my future I am driving a car t...  \n",
       "1  I was living with my boyfriend at his mothers ...  "
      ]
     },
     "execution_count": 104,
     "metadata": {},
     "output_type": "execute_result"
    }
   ],
   "source": [
    "df.head(2)"
   ]
  },
  {
   "cell_type": "markdown",
   "metadata": {},
   "source": [
    "# NMF Topic Model"
   ]
  },
  {
   "cell_type": "markdown",
   "metadata": {},
   "source": [
    "#### Getting the tfidf matrix for 'all_scenes_text'"
   ]
  },
  {
   "cell_type": "code",
   "execution_count": 105,
   "metadata": {},
   "outputs": [
    {
     "data": {
      "text/plain": [
       "<50620x1650 sparse matrix of type '<class 'numpy.float64'>'\n",
       "\twith 1400800 stored elements in Compressed Sparse Row format>"
      ]
     },
     "execution_count": 105,
     "metadata": {},
     "output_type": "execute_result"
    }
   ],
   "source": [
    "tfidf_matrix = tfidf_dict['all_scenes_text']\n",
    "tfidf_matrix"
   ]
  },
  {
   "cell_type": "markdown",
   "metadata": {},
   "source": [
    "#### Getting the list of feature names for 'all_scenes_text'"
   ]
  },
  {
   "cell_type": "code",
   "execution_count": 106,
   "metadata": {},
   "outputs": [
    {
     "name": "stdout",
     "output_type": "stream",
     "text": [
      "There are: 1650 features in the tfidf model for \"all_scenes_text\".\n"
     ]
    }
   ],
   "source": [
    "tfidf_feature_names = tfidf_features_dict['all_scenes_text']\n",
    "print('There are: {} features in the tfidf model for \"all_scenes_text\".'.format(len(tfidf_feature_names)))"
   ]
  },
  {
   "cell_type": "markdown",
   "metadata": {},
   "source": [
    "#### Importing NMF method"
   ]
  },
  {
   "cell_type": "code",
   "execution_count": 107,
   "metadata": {
    "collapsed": true
   },
   "outputs": [],
   "source": [
    "from sklearn.decomposition import NMF"
   ]
  },
  {
   "cell_type": "markdown",
   "metadata": {},
   "source": [
    "#### Setting the number of topics/components for the NMF model to construct from the tfidf model"
   ]
  },
  {
   "cell_type": "code",
   "execution_count": 108,
   "metadata": {
    "collapsed": true
   },
   "outputs": [],
   "source": [
    "no_topics = 15"
   ]
  },
  {
   "cell_type": "markdown",
   "metadata": {},
   "source": [
    "#### Defining the NMF method"
   ]
  },
  {
   "cell_type": "code",
   "execution_count": 109,
   "metadata": {
    "collapsed": true
   },
   "outputs": [],
   "source": [
    "nmf = NMF(n_components=no_topics, random_state=42, alpha=0.1, l1_ratio=.2, \\\n",
    "          max_iter = 500, verbose = False, shuffle = True, init='nndsvd', solver = 'cd')"
   ]
  },
  {
   "cell_type": "markdown",
   "metadata": {},
   "source": [
    "#### Generating the NMF topic model for the tfidf matrix"
   ]
  },
  {
   "cell_type": "code",
   "execution_count": 110,
   "metadata": {
    "collapsed": true
   },
   "outputs": [],
   "source": [
    "nmf_model = nmf.fit(tfidf_matrix)"
   ]
  },
  {
   "cell_type": "markdown",
   "metadata": {},
   "source": [
    "#### Defining a helper function to display topics"
   ]
  },
  {
   "cell_type": "code",
   "execution_count": 111,
   "metadata": {
    "collapsed": true
   },
   "outputs": [],
   "source": [
    "def display_nmf_topics(model, feature_names, no_top_words):\n",
    "    for topic_idx, topic in enumerate(model.components_):\n",
    "        print (\"Topic %d:\" % (topic_idx))\n",
    "        print (\" \".join([feature_names[i] for i in topic.argsort()[:-no_top_words - 1:-1]]))"
   ]
  },
  {
   "cell_type": "markdown",
   "metadata": {},
   "source": [
    "#### Setting the number of 'top words' to be displayed for each topic"
   ]
  },
  {
   "cell_type": "code",
   "execution_count": 112,
   "metadata": {
    "collapsed": true
   },
   "outputs": [],
   "source": [
    "no_top_words = 20"
   ]
  },
  {
   "cell_type": "markdown",
   "metadata": {},
   "source": [
    "#### Displaying the topics constructed by the NMF model"
   ]
  },
  {
   "cell_type": "code",
   "execution_count": 113,
   "metadata": {},
   "outputs": [
    {
     "name": "stdout",
     "output_type": "stream",
     "text": [
      "Topic 0:\n",
      "people looked white man walking black looking hand standing right sky looked like started hair beautiful big look vision light face\n",
      "Topic 1:\n",
      "does mean does mean mean dream dreamt dream mean does know know mean dreaming does dream upwhat upwhat does woke upwhat person dreamed vision seeing night mean thank numbers\n",
      "Topic 2:\n",
      "god spirit lord jesus holy word pray holy spirit bless praying god bless love christ say vision life time things prayer heard\n",
      "Topic 3:\n",
      "baby pregnant birth boy girl baby girl baby boy holding babies child hospital born little having months gave care old arms children\n",
      "Topic 4:\n",
      "car driving road seat driving car drive got drove got car cars truck parked dream driving parking going hit passenger stop driver street\n",
      "Topic 5:\n",
      "room door bed went open opened living room living floor window bedroom woke walked outside opened door open door sleep bathroom heard doors\n",
      "Topic 6:\n",
      "water fish swimming clear pool boat river ocean swim beach deep coming clean waves lake wave sea flowing flood floating\n",
      "Topic 7:\n",
      "house outside home inside dream house old yard house house inside house window new went came house family kitchen big coming lived living rooms\n",
      "Topic 8:\n",
      "church pastor people service dream church wife worship lady pastors preaching sitting singing members building went going attend praying old ministry\n",
      "Topic 9:\n",
      "told husband went friend didnt got help night came going asked dreamed woke mom daughter dreamt home did wanted started\n",
      "Topic 10:\n",
      "dreams having having dreams ive years night time help visions different thank dreaming prophetic times usually past posting interpretation ago wake\n",
      "Topic 11:\n",
      "im dream im sure ive im sure says tell going dont dreaming feel wake im going think start say look time comes hes\n",
      "Topic 12:\n",
      "remember dont dont remember dont know remember dream night dream remember think seeing really dream night thinking woke remember seeing feeling saying remember thinking talking thing dream dont\n",
      "Topic 13:\n",
      "snake snakes head black bite bit big trying night kill bed dreamt dog yellow small help mouth dreamed tried woke\n",
      "Topic 14:\n",
      "check messages private message thank bless sent blessings pm thanks god bless help thank god interpret hi hello interpretation post group help thank\n"
     ]
    }
   ],
   "source": [
    "display_nmf_topics(nmf_model, tfidf_feature_names, no_top_words)"
   ]
  },
  {
   "cell_type": "code",
   "execution_count": null,
   "metadata": {
    "collapsed": true
   },
   "outputs": [],
   "source": []
  },
  {
   "cell_type": "code",
   "execution_count": null,
   "metadata": {
    "collapsed": true
   },
   "outputs": [],
   "source": []
  },
  {
   "cell_type": "markdown",
   "metadata": {},
   "source": [
    "# Analyzing the topic model"
   ]
  },
  {
   "cell_type": "markdown",
   "metadata": {},
   "source": [
    "#### Defining a way to assign each dream to one or more topics in the NMF model"
   ]
  },
  {
   "cell_type": "code",
   "execution_count": null,
   "metadata": {
    "collapsed": true
   },
   "outputs": [],
   "source": []
  },
  {
   "cell_type": "code",
   "execution_count": null,
   "metadata": {
    "collapsed": true
   },
   "outputs": [],
   "source": []
  },
  {
   "cell_type": "code",
   "execution_count": null,
   "metadata": {
    "collapsed": true
   },
   "outputs": [],
   "source": []
  },
  {
   "cell_type": "code",
   "execution_count": null,
   "metadata": {
    "collapsed": true
   },
   "outputs": [],
   "source": []
  }
 ],
 "metadata": {
  "kernelspec": {
   "display_name": "Python 3",
   "language": "python",
   "name": "python3"
  },
  "language_info": {
   "codemirror_mode": {
    "name": "ipython",
    "version": 3
   },
   "file_extension": ".py",
   "mimetype": "text/x-python",
   "name": "python",
   "nbconvert_exporter": "python",
   "pygments_lexer": "ipython3",
   "version": "3.6.3"
  }
 },
 "nbformat": 4,
 "nbformat_minor": 2
}
